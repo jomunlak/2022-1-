{
 "cells": [
  {
   "cell_type": "code",
   "execution_count": 32,
   "id": "470781c9",
   "metadata": {},
   "outputs": [
    {
     "data": {
      "text/plain": [
       "array([[5.1, 3.5, 1.4, 0.2],\n",
       "       [4.9, 3. , 1.4, 0.2],\n",
       "       [4.7, 3.2, 1.3, 0.2],\n",
       "       [4.6, 3.1, 1.5, 0.2],\n",
       "       [5. , 3.6, 1.4, 0.2],\n",
       "       [5.4, 3.9, 1.7, 0.4],\n",
       "       [4.6, 3.4, 1.4, 0.3],\n",
       "       [5. , 3.4, 1.5, 0.2],\n",
       "       [4.4, 2.9, 1.4, 0.2],\n",
       "       [4.9, 3.1, 1.5, 0.1],\n",
       "       [5.4, 3.7, 1.5, 0.2],\n",
       "       [4.8, 3.4, 1.6, 0.2],\n",
       "       [4.8, 3. , 1.4, 0.1],\n",
       "       [4.3, 3. , 1.1, 0.1],\n",
       "       [5.8, 4. , 1.2, 0.2],\n",
       "       [5.7, 4.4, 1.5, 0.4],\n",
       "       [5.4, 3.9, 1.3, 0.4],\n",
       "       [5.1, 3.5, 1.4, 0.3],\n",
       "       [5.7, 3.8, 1.7, 0.3],\n",
       "       [5.1, 3.8, 1.5, 0.3],\n",
       "       [5.4, 3.4, 1.7, 0.2],\n",
       "       [5.1, 3.7, 1.5, 0.4],\n",
       "       [4.6, 3.6, 1. , 0.2],\n",
       "       [5.1, 3.3, 1.7, 0.5],\n",
       "       [4.8, 3.4, 1.9, 0.2],\n",
       "       [5. , 3. , 1.6, 0.2],\n",
       "       [5. , 3.4, 1.6, 0.4],\n",
       "       [5.2, 3.5, 1.5, 0.2],\n",
       "       [5.2, 3.4, 1.4, 0.2],\n",
       "       [4.7, 3.2, 1.6, 0.2],\n",
       "       [4.8, 3.1, 1.6, 0.2],\n",
       "       [5.4, 3.4, 1.5, 0.4],\n",
       "       [5.2, 4.1, 1.5, 0.1],\n",
       "       [5.5, 4.2, 1.4, 0.2],\n",
       "       [4.9, 3.1, 1.5, 0.2],\n",
       "       [5. , 3.2, 1.2, 0.2],\n",
       "       [5.5, 3.5, 1.3, 0.2],\n",
       "       [4.9, 3.6, 1.4, 0.1],\n",
       "       [4.4, 3. , 1.3, 0.2],\n",
       "       [5.1, 3.4, 1.5, 0.2],\n",
       "       [5. , 3.5, 1.3, 0.3],\n",
       "       [4.5, 2.3, 1.3, 0.3],\n",
       "       [4.4, 3.2, 1.3, 0.2],\n",
       "       [5. , 3.5, 1.6, 0.6],\n",
       "       [5.1, 3.8, 1.9, 0.4],\n",
       "       [4.8, 3. , 1.4, 0.3],\n",
       "       [5.1, 3.8, 1.6, 0.2],\n",
       "       [4.6, 3.2, 1.4, 0.2],\n",
       "       [5.3, 3.7, 1.5, 0.2],\n",
       "       [5. , 3.3, 1.4, 0.2],\n",
       "       [7. , 3.2, 4.7, 1.4],\n",
       "       [6.4, 3.2, 4.5, 1.5],\n",
       "       [6.9, 3.1, 4.9, 1.5],\n",
       "       [5.5, 2.3, 4. , 1.3],\n",
       "       [6.5, 2.8, 4.6, 1.5],\n",
       "       [5.7, 2.8, 4.5, 1.3],\n",
       "       [6.3, 3.3, 4.7, 1.6],\n",
       "       [4.9, 2.4, 3.3, 1. ],\n",
       "       [6.6, 2.9, 4.6, 1.3],\n",
       "       [5.2, 2.7, 3.9, 1.4],\n",
       "       [5. , 2. , 3.5, 1. ],\n",
       "       [5.9, 3. , 4.2, 1.5],\n",
       "       [6. , 2.2, 4. , 1. ],\n",
       "       [6.1, 2.9, 4.7, 1.4],\n",
       "       [5.6, 2.9, 3.6, 1.3],\n",
       "       [6.7, 3.1, 4.4, 1.4],\n",
       "       [5.6, 3. , 4.5, 1.5],\n",
       "       [5.8, 2.7, 4.1, 1. ],\n",
       "       [6.2, 2.2, 4.5, 1.5],\n",
       "       [5.6, 2.5, 3.9, 1.1],\n",
       "       [5.9, 3.2, 4.8, 1.8],\n",
       "       [6.1, 2.8, 4. , 1.3],\n",
       "       [6.3, 2.5, 4.9, 1.5],\n",
       "       [6.1, 2.8, 4.7, 1.2],\n",
       "       [6.4, 2.9, 4.3, 1.3],\n",
       "       [6.6, 3. , 4.4, 1.4],\n",
       "       [6.8, 2.8, 4.8, 1.4],\n",
       "       [6.7, 3. , 5. , 1.7],\n",
       "       [6. , 2.9, 4.5, 1.5],\n",
       "       [5.7, 2.6, 3.5, 1. ],\n",
       "       [5.5, 2.4, 3.8, 1.1],\n",
       "       [5.5, 2.4, 3.7, 1. ],\n",
       "       [5.8, 2.7, 3.9, 1.2],\n",
       "       [6. , 2.7, 5.1, 1.6],\n",
       "       [5.4, 3. , 4.5, 1.5],\n",
       "       [6. , 3.4, 4.5, 1.6],\n",
       "       [6.7, 3.1, 4.7, 1.5],\n",
       "       [6.3, 2.3, 4.4, 1.3],\n",
       "       [5.6, 3. , 4.1, 1.3],\n",
       "       [5.5, 2.5, 4. , 1.3],\n",
       "       [5.5, 2.6, 4.4, 1.2],\n",
       "       [6.1, 3. , 4.6, 1.4],\n",
       "       [5.8, 2.6, 4. , 1.2],\n",
       "       [5. , 2.3, 3.3, 1. ],\n",
       "       [5.6, 2.7, 4.2, 1.3],\n",
       "       [5.7, 3. , 4.2, 1.2],\n",
       "       [5.7, 2.9, 4.2, 1.3],\n",
       "       [6.2, 2.9, 4.3, 1.3],\n",
       "       [5.1, 2.5, 3. , 1.1],\n",
       "       [5.7, 2.8, 4.1, 1.3],\n",
       "       [6.3, 3.3, 6. , 2.5],\n",
       "       [5.8, 2.7, 5.1, 1.9],\n",
       "       [7.1, 3. , 5.9, 2.1],\n",
       "       [6.3, 2.9, 5.6, 1.8],\n",
       "       [6.5, 3. , 5.8, 2.2],\n",
       "       [7.6, 3. , 6.6, 2.1],\n",
       "       [4.9, 2.5, 4.5, 1.7],\n",
       "       [7.3, 2.9, 6.3, 1.8],\n",
       "       [6.7, 2.5, 5.8, 1.8],\n",
       "       [7.2, 3.6, 6.1, 2.5],\n",
       "       [6.5, 3.2, 5.1, 2. ],\n",
       "       [6.4, 2.7, 5.3, 1.9],\n",
       "       [6.8, 3. , 5.5, 2.1],\n",
       "       [5.7, 2.5, 5. , 2. ],\n",
       "       [5.8, 2.8, 5.1, 2.4],\n",
       "       [6.4, 3.2, 5.3, 2.3],\n",
       "       [6.5, 3. , 5.5, 1.8],\n",
       "       [7.7, 3.8, 6.7, 2.2],\n",
       "       [7.7, 2.6, 6.9, 2.3],\n",
       "       [6. , 2.2, 5. , 1.5],\n",
       "       [6.9, 3.2, 5.7, 2.3],\n",
       "       [5.6, 2.8, 4.9, 2. ],\n",
       "       [7.7, 2.8, 6.7, 2. ],\n",
       "       [6.3, 2.7, 4.9, 1.8],\n",
       "       [6.7, 3.3, 5.7, 2.1],\n",
       "       [7.2, 3.2, 6. , 1.8],\n",
       "       [6.2, 2.8, 4.8, 1.8],\n",
       "       [6.1, 3. , 4.9, 1.8],\n",
       "       [6.4, 2.8, 5.6, 2.1],\n",
       "       [7.2, 3. , 5.8, 1.6],\n",
       "       [7.4, 2.8, 6.1, 1.9],\n",
       "       [7.9, 3.8, 6.4, 2. ],\n",
       "       [6.4, 2.8, 5.6, 2.2],\n",
       "       [6.3, 2.8, 5.1, 1.5],\n",
       "       [6.1, 2.6, 5.6, 1.4],\n",
       "       [7.7, 3. , 6.1, 2.3],\n",
       "       [6.3, 3.4, 5.6, 2.4],\n",
       "       [6.4, 3.1, 5.5, 1.8],\n",
       "       [6. , 3. , 4.8, 1.8],\n",
       "       [6.9, 3.1, 5.4, 2.1],\n",
       "       [6.7, 3.1, 5.6, 2.4],\n",
       "       [6.9, 3.1, 5.1, 2.3],\n",
       "       [5.8, 2.7, 5.1, 1.9],\n",
       "       [6.8, 3.2, 5.9, 2.3],\n",
       "       [6.7, 3.3, 5.7, 2.5],\n",
       "       [6.7, 3. , 5.2, 2.3],\n",
       "       [6.3, 2.5, 5. , 1.9],\n",
       "       [6.5, 3. , 5.2, 2. ],\n",
       "       [6.2, 3.4, 5.4, 2.3],\n",
       "       [5.9, 3. , 5.1, 1.8]])"
      ]
     },
     "execution_count": 32,
     "metadata": {},
     "output_type": "execute_result"
    }
   ],
   "source": [
    "import numpy as np\n",
    "import pandas as pd\n",
    "import matplotlib.pyplot as plt \n",
    "from sklearn.datasets import load_iris\n",
    "from sklearn.linear_model import LinearRegression\n",
    "iris = load_iris()"
   ]
  },
  {
   "cell_type": "code",
   "execution_count": 12,
   "id": "386492cb",
   "metadata": {},
   "outputs": [
    {
     "data": {
      "text/plain": [
       "array([2.54721239])"
      ]
     },
     "execution_count": 12,
     "metadata": {},
     "output_type": "execute_result"
    }
   ],
   "source": [
    "X = iris.data[:,2]\n",
    "y = iris.data[:,3]\n",
    "X = X.reshape(-1,1)\n",
    "\n",
    "model = LinearRegression()\n",
    "model.fit(X, y)\n",
    "\n",
    "model.predict([[7]]) # predict에대한 입력도 표 형태로... 1*1 크기의 표 [[n]]"
   ]
  },
  {
   "cell_type": "code",
   "execution_count": 17,
   "id": "3c692763",
   "metadata": {},
   "outputs": [
    {
     "data": {
      "text/plain": [
       "array([-0.20726607,  0.22282854,  0.52408311])"
      ]
     },
     "metadata": {},
     "output_type": "display_data"
    },
    {
     "data": {
      "text/plain": [
       "-0.24030738911226113"
      ]
     },
     "metadata": {},
     "output_type": "display_data"
    },
    {
     "data": {
      "text/plain": [
       "array([2.2388186])"
      ]
     },
     "execution_count": 17,
     "metadata": {},
     "output_type": "execute_result"
    }
   ],
   "source": [
    "# 속성을 여러개 쓰는 선형 회귀 모델의 경우\n",
    "X = iris.data[:,:3] # 0~2 칼럼을 입력값으로 설정\n",
    "y = iris.data[:,3]  # 3번 칼럼을 결과로 설정\n",
    "\n",
    "model = LinearRegression()\n",
    "model.fit(X, y)\n",
    "\n",
    "display(model.coef_, model.intercept_)\n",
    "\n",
    "\n"
   ]
  },
  {
   "cell_type": "code",
   "execution_count": 18,
   "id": "b4ae57db",
   "metadata": {},
   "outputs": [
    {
     "data": {
      "text/plain": [
       "array([[5.1, 3.5],\n",
       "       [4.9, 3. ],\n",
       "       [4.7, 3.2],\n",
       "       [4.6, 3.1],\n",
       "       [5. , 3.6],\n",
       "       [5.4, 3.9],\n",
       "       [4.6, 3.4],\n",
       "       [5. , 3.4],\n",
       "       [4.4, 2.9],\n",
       "       [4.9, 3.1],\n",
       "       [5.4, 3.7],\n",
       "       [4.8, 3.4],\n",
       "       [4.8, 3. ],\n",
       "       [4.3, 3. ],\n",
       "       [5.8, 4. ],\n",
       "       [5.7, 4.4],\n",
       "       [5.4, 3.9],\n",
       "       [5.1, 3.5],\n",
       "       [5.7, 3.8],\n",
       "       [5.1, 3.8],\n",
       "       [5.4, 3.4],\n",
       "       [5.1, 3.7],\n",
       "       [4.6, 3.6],\n",
       "       [5.1, 3.3],\n",
       "       [4.8, 3.4],\n",
       "       [5. , 3. ],\n",
       "       [5. , 3.4],\n",
       "       [5.2, 3.5],\n",
       "       [5.2, 3.4],\n",
       "       [4.7, 3.2],\n",
       "       [4.8, 3.1],\n",
       "       [5.4, 3.4],\n",
       "       [5.2, 4.1],\n",
       "       [5.5, 4.2],\n",
       "       [4.9, 3.1],\n",
       "       [5. , 3.2],\n",
       "       [5.5, 3.5],\n",
       "       [4.9, 3.6],\n",
       "       [4.4, 3. ],\n",
       "       [5.1, 3.4],\n",
       "       [5. , 3.5],\n",
       "       [4.5, 2.3],\n",
       "       [4.4, 3.2],\n",
       "       [5. , 3.5],\n",
       "       [5.1, 3.8],\n",
       "       [4.8, 3. ],\n",
       "       [5.1, 3.8],\n",
       "       [4.6, 3.2],\n",
       "       [5.3, 3.7],\n",
       "       [5. , 3.3],\n",
       "       [7. , 3.2],\n",
       "       [6.4, 3.2],\n",
       "       [6.9, 3.1],\n",
       "       [5.5, 2.3],\n",
       "       [6.5, 2.8],\n",
       "       [5.7, 2.8],\n",
       "       [6.3, 3.3],\n",
       "       [4.9, 2.4],\n",
       "       [6.6, 2.9],\n",
       "       [5.2, 2.7],\n",
       "       [5. , 2. ],\n",
       "       [5.9, 3. ],\n",
       "       [6. , 2.2],\n",
       "       [6.1, 2.9],\n",
       "       [5.6, 2.9],\n",
       "       [6.7, 3.1],\n",
       "       [5.6, 3. ],\n",
       "       [5.8, 2.7],\n",
       "       [6.2, 2.2],\n",
       "       [5.6, 2.5],\n",
       "       [5.9, 3.2],\n",
       "       [6.1, 2.8],\n",
       "       [6.3, 2.5],\n",
       "       [6.1, 2.8],\n",
       "       [6.4, 2.9],\n",
       "       [6.6, 3. ],\n",
       "       [6.8, 2.8],\n",
       "       [6.7, 3. ],\n",
       "       [6. , 2.9],\n",
       "       [5.7, 2.6],\n",
       "       [5.5, 2.4],\n",
       "       [5.5, 2.4],\n",
       "       [5.8, 2.7],\n",
       "       [6. , 2.7],\n",
       "       [5.4, 3. ],\n",
       "       [6. , 3.4],\n",
       "       [6.7, 3.1],\n",
       "       [6.3, 2.3],\n",
       "       [5.6, 3. ],\n",
       "       [5.5, 2.5],\n",
       "       [5.5, 2.6],\n",
       "       [6.1, 3. ],\n",
       "       [5.8, 2.6],\n",
       "       [5. , 2.3],\n",
       "       [5.6, 2.7],\n",
       "       [5.7, 3. ],\n",
       "       [5.7, 2.9],\n",
       "       [6.2, 2.9],\n",
       "       [5.1, 2.5],\n",
       "       [5.7, 2.8],\n",
       "       [6.3, 3.3],\n",
       "       [5.8, 2.7],\n",
       "       [7.1, 3. ],\n",
       "       [6.3, 2.9],\n",
       "       [6.5, 3. ],\n",
       "       [7.6, 3. ],\n",
       "       [4.9, 2.5],\n",
       "       [7.3, 2.9],\n",
       "       [6.7, 2.5],\n",
       "       [7.2, 3.6],\n",
       "       [6.5, 3.2],\n",
       "       [6.4, 2.7],\n",
       "       [6.8, 3. ],\n",
       "       [5.7, 2.5],\n",
       "       [5.8, 2.8],\n",
       "       [6.4, 3.2],\n",
       "       [6.5, 3. ],\n",
       "       [7.7, 3.8],\n",
       "       [7.7, 2.6],\n",
       "       [6. , 2.2],\n",
       "       [6.9, 3.2],\n",
       "       [5.6, 2.8],\n",
       "       [7.7, 2.8],\n",
       "       [6.3, 2.7],\n",
       "       [6.7, 3.3],\n",
       "       [7.2, 3.2],\n",
       "       [6.2, 2.8],\n",
       "       [6.1, 3. ],\n",
       "       [6.4, 2.8],\n",
       "       [7.2, 3. ],\n",
       "       [7.4, 2.8],\n",
       "       [7.9, 3.8],\n",
       "       [6.4, 2.8],\n",
       "       [6.3, 2.8],\n",
       "       [6.1, 2.6],\n",
       "       [7.7, 3. ],\n",
       "       [6.3, 3.4],\n",
       "       [6.4, 3.1],\n",
       "       [6. , 3. ],\n",
       "       [6.9, 3.1],\n",
       "       [6.7, 3.1],\n",
       "       [6.9, 3.1],\n",
       "       [5.8, 2.7],\n",
       "       [6.8, 3.2],\n",
       "       [6.7, 3.3],\n",
       "       [6.7, 3. ],\n",
       "       [6.3, 2.5],\n",
       "       [6.5, 3. ],\n",
       "       [6.2, 3.4],\n",
       "       [5.9, 3. ]])"
      ]
     },
     "metadata": {},
     "output_type": "display_data"
    },
    {
     "data": {
      "text/plain": [
       "array([0, 0, 0, 0, 0, 0, 0, 0, 0, 0, 0, 0, 0, 0, 0, 0, 0, 0, 0, 0, 0, 0,\n",
       "       0, 0, 0, 0, 0, 0, 0, 0, 0, 0, 0, 0, 0, 0, 0, 0, 0, 0, 0, 0, 0, 0,\n",
       "       0, 0, 0, 0, 0, 0, 1, 1, 1, 1, 1, 1, 1, 1, 1, 1, 1, 1, 1, 1, 1, 1,\n",
       "       1, 1, 1, 1, 1, 1, 1, 1, 1, 1, 1, 1, 1, 1, 1, 1, 1, 1, 1, 1, 1, 1,\n",
       "       1, 1, 1, 1, 1, 1, 1, 1, 1, 1, 1, 1, 1, 1, 1, 1, 1, 1, 1, 1, 1, 1,\n",
       "       1, 1, 1, 1, 1, 1, 1, 1, 1, 1, 1, 1, 1, 1, 1, 1, 1, 1, 1, 1, 1, 1,\n",
       "       1, 1, 1, 1, 1, 1, 1, 1, 1, 1, 1, 1, 1, 1, 1, 1, 1, 1])"
      ]
     },
     "metadata": {},
     "output_type": "display_data"
    }
   ],
   "source": [
    "# 분류의 기초 - 로지스틱 회귀\n",
    "\n",
    "X = iris.data[:,:2]\n",
    "y = np.array([0]*50 + [1]*100) # 0이라면 setosa, 1이라면 setosa가 아니라고 알려줌\n",
    "\n",
    "display(X, y)\n"
   ]
  },
  {
   "cell_type": "code",
   "execution_count": 8,
   "id": "e182b5df",
   "metadata": {},
   "outputs": [],
   "source": [
    "\n",
    "from sklearn.linear_model import LogisticRegression\n",
    "\n",
    "model = LogisticRegression()\n",
    "model.fit(X, y)\n",
    "\n",
    "y_pred = model.predict(X)\n"
   ]
  },
  {
   "cell_type": "code",
   "execution_count": 24,
   "id": "32ed87bb",
   "metadata": {},
   "outputs": [
    {
     "data": {
      "text/plain": [
       "array([[ 3.38829757, -3.1645277 ]])"
      ]
     },
     "metadata": {},
     "output_type": "display_data"
    },
    {
     "data": {
      "text/plain": [
       "array([-8.32330389])"
      ]
     },
     "metadata": {},
     "output_type": "display_data"
    }
   ],
   "source": [
    "# 결과 분석\n",
    "\n",
    "model.coef_\n",
    "model.intercept_\n",
    "\n",
    "display(model.coef_, model.inatercept_)\n",
    "\n",
    "\n",
    "w = model.coef_[0]\n",
    "b = model.intercept_[0]\n",
    "\n"
   ]
  },
  {
   "cell_type": "code",
   "execution_count": 25,
   "id": "268597d5",
   "metadata": {},
   "outputs": [
    {
     "data": {
      "text/plain": [
       "[<matplotlib.lines.Line2D at 0x20d02ffb310>]"
      ]
     },
     "execution_count": 25,
     "metadata": {},
     "output_type": "execute_result"
    },
    {
     "data": {
      "image/png": "[encoded data removed]",
      "text/plain": [
       "<Figure size 432x288 with 1 Axes>"
      ]
     },
     "metadata": {
      "needs_background": "light"
     },
     "output_type": "display_data"
    }
   ],
   "source": [
    "xs = np.array([4, 8])\n",
    "ys = -(w[0]*xs + b)/w[1]     # w1x1 + w2x2 + b = 0 >>>> w1x1+b = -w2x2  >>>>> -(w1x1 + b)/w2 = x2  \n",
    "                              #   이 방정식 위 양의 값을 가지면 1, 아니면 0\n",
    "                               # 의문점, 정확히 이 실선에 일치하는 데이터는 어떻게 판단하는가?\n",
    "\n",
    "plt.scatter(X[:,0], X[:,1] , c=y)\n",
    "plt.plot(xs, ys, 'r')\n",
    "\n",
    "\n",
    "\n",
    "\n"
   ]
  },
  {
   "cell_type": "code",
   "execution_count": 6,
   "id": "eb77c733",
   "metadata": {},
   "outputs": [
    {
     "data": {
      "text/plain": [
       "<matplotlib.colorbar.Colorbar at 0x2729b72e310>"
      ]
     },
     "execution_count": 6,
     "metadata": {},
     "output_type": "execute_result"
    },
    {
     "data": {
      "image/png": "[encoded data removed]",
      "text/plain": [
       "<Figure size 432x288 with 2 Axes>"
      ]
     },
     "metadata": {
      "needs_background": "light"
     },
     "output_type": "display_data"
    }
   ],
   "source": [
    "# setosa를 제외한 versicolor와 virginica의 구분\n",
    "X  =iris.data[50:, :2]\n",
    "y = np.array([0]*50 + [1]*50)\n",
    "\n",
    "plt.scatter(X[:,0], X[:,1], c=y)\n",
    "plt.colorbar()\n",
    "\n"
   ]
  },
  {
   "cell_type": "code",
   "execution_count": 9,
   "id": "9edaf295",
   "metadata": {},
   "outputs": [],
   "source": [
    "model = LogisticRegression()\n",
    "model.fit(X, y)\n",
    "y_pred = model.predict(X)\n"
   ]
  },
  {
   "cell_type": "code",
   "execution_count": 10,
   "id": "06fe671c",
   "metadata": {},
   "outputs": [
    {
     "data": {
      "text/plain": [
       "(1.5, 4.5)"
      ]
     },
     "execution_count": 10,
     "metadata": {},
     "output_type": "execute_result"
    },
    {
     "data": {
      "image/png": "[encoded data removed]",
      "text/plain": [
       "<Figure size 432x288 with 1 Axes>"
      ]
     },
     "metadata": {
      "needs_background": "light"
     },
     "output_type": "display_data"
    }
   ],
   "source": [
    "w = model.coef_[0]\n",
    "b = model.intercept_[0]\n",
    "xs = np.array([4, 8])\n",
    "ys = -(w[0]*xs + b)/w[1]   \n",
    "\n",
    "plt.scatter(X[:,0], X[:,1], c=y)\n",
    "plt.plot(xs, ys, 'r')\n",
    "plt.ylim([1.5, 4.5])"
   ]
  },
  {
   "cell_type": "code",
   "execution_count": 11,
   "id": "24319ada",
   "metadata": {},
   "outputs": [
    {
     "data": {
      "text/plain": [
       "<matplotlib.legend.Legend at 0x27295fe75e0>"
      ]
     },
     "execution_count": 11,
     "metadata": {},
     "output_type": "execute_result"
    },
    {
     "data": {
      "image/png": "[encoded data removed]",
      "text/plain": [
       "<Figure size 432x288 with 1 Axes>"
      ]
     },
     "metadata": {},
     "output_type": "display_data"
    }
   ],
   "source": [
    "import mglearn\n",
    "\n",
    "mglearn.plots.plot_2d_separator(model, X, fill=True, eps= 0.5, alpha = 0.4)\n",
    "mglearn.discrete_scatter(X[:,0], X[:, 1], y)\n",
    "plt.legend(loc = 4)"
   ]
  },
  {
   "cell_type": "code",
   "execution_count": 15,
   "id": "a0643f2c",
   "metadata": {},
   "outputs": [
    {
     "data": {
      "text/plain": [
       "array([[0.20984396, 0.79015604],\n",
       "       [0.40794804, 0.59205196],\n",
       "       [0.24488716, 0.75511284],\n",
       "       [0.80623275, 0.19376725],\n",
       "       [0.40907807, 0.59092193],\n",
       "       [0.71165542, 0.28834458],\n",
       "       [0.43672917, 0.56327083],\n",
       "       [0.91199427, 0.08800573],\n",
       "       [0.36179668, 0.63820332],\n",
       "       [0.85053991, 0.14946009],\n",
       "       [0.9123689 , 0.0876311 ],\n",
       "       [0.62336236, 0.37663764],\n",
       "       [0.66197317, 0.33802683],\n",
       "       [0.55649157, 0.44350843],\n",
       "       [0.73525395, 0.26474605],\n",
       "       [0.30826017, 0.69173983],\n",
       "       [0.72721738, 0.27278262],\n",
       "       [0.68684929, 0.31315071],\n",
       "       [0.58765892, 0.41234108],\n",
       "       [0.76584984, 0.23415016],\n",
       "       [0.60397491, 0.39602509],\n",
       "       [0.56656006, 0.43343994],\n",
       "       [0.51816948, 0.48183052],\n",
       "       [0.56656006, 0.43343994],\n",
       "       [0.43787996, 0.56212004],\n",
       "       [0.35240848, 0.64759152],\n",
       "       [0.3005913 , 0.6994087 ],\n",
       "       [0.31704806, 0.68295194],\n",
       "       [0.59528017, 0.40471983],\n",
       "       [0.72814412, 0.27185588],\n",
       "       [0.79976402, 0.20023598],\n",
       "       [0.79976402, 0.20023598],\n",
       "       [0.68684929, 0.31315071],\n",
       "       [0.61482182, 0.38517818],\n",
       "       [0.78555785, 0.21444215],\n",
       "       [0.54521709, 0.45478291],\n",
       "       [0.30826017, 0.69173983],\n",
       "       [0.53854817, 0.46145183],\n",
       "       [0.72721738, 0.27278262],\n",
       "       [0.79313474, 0.20686526],\n",
       "       [0.78634462, 0.21365538],\n",
       "       [0.54637645, 0.45362355],\n",
       "       [0.69557731, 0.30442269],\n",
       "       [0.90205103, 0.09794897],\n",
       "       [0.75086561, 0.24913439],\n",
       "       [0.69458612, 0.30541388],\n",
       "       [0.70319168, 0.29680832],\n",
       "       [0.51700176, 0.48299824],\n",
       "       [0.8786314 , 0.1213686 ],\n",
       "       [0.71165542, 0.28834458],\n",
       "       [0.43672917, 0.56327083],\n",
       "       [0.68684929, 0.31315071],\n",
       "       [0.19734384, 0.80265616],\n",
       "       [0.47729845, 0.52270155],\n",
       "       [0.38946367, 0.61053633],\n",
       "       [0.09997624, 0.90002376],\n",
       "       [0.90865626, 0.09134374],\n",
       "       [0.15711029, 0.84288971],\n",
       "       [0.36287723, 0.63712277],\n",
       "       [0.14097097, 0.85902903],\n",
       "       [0.37020055, 0.62979945],\n",
       "       [0.45810315, 0.54189685],\n",
       "       [0.28368144, 0.71631856],\n",
       "       [0.73616329, 0.26383671],\n",
       "       [0.67798689, 0.32201311],\n",
       "       [0.40794804, 0.59205196],\n",
       "       [0.38946367, 0.61053633],\n",
       "       [0.06395117, 0.93604883],\n",
       "       [0.10039784, 0.89960216],\n",
       "       [0.66197317, 0.33802683],\n",
       "       [0.23740414, 0.76259586],\n",
       "       [0.74313738, 0.25686262],\n",
       "       [0.09324844, 0.90675156],\n",
       "       [0.49773017, 0.50226983],\n",
       "       [0.29109846, 0.70890154],\n",
       "       [0.16196629, 0.83803371],\n",
       "       [0.52720508, 0.47279492],\n",
       "       [0.54637645, 0.45362355],\n",
       "       [0.44797004, 0.55202996],\n",
       "       [0.17337693, 0.82662307],\n",
       "       [0.14210745, 0.85789255],\n",
       "       [0.04736485, 0.95263515],\n",
       "       [0.44797004, 0.55202996],\n",
       "       [0.48750909, 0.51249091],\n",
       "       [0.58652523, 0.41347477],\n",
       "       [0.08655916, 0.91344084],\n",
       "       [0.42669657, 0.57330343],\n",
       "       [0.41786111, 0.58213889],\n",
       "       [0.58539061, 0.41460939],\n",
       "       [0.24488716, 0.75511284],\n",
       "       [0.30826017, 0.69173983],\n",
       "       [0.24488716, 0.75511284],\n",
       "       [0.68684929, 0.31315071],\n",
       "       [0.26735922, 0.73264078],\n",
       "       [0.29109846, 0.70890154],\n",
       "       [0.31704806, 0.68295194],\n",
       "       [0.51816948, 0.48183052],\n",
       "       [0.38946367, 0.61053633],\n",
       "       [0.46594281, 0.53405719],\n",
       "       [0.62336236, 0.37663764]])"
      ]
     },
     "execution_count": 15,
     "metadata": {},
     "output_type": "execute_result"
    }
   ],
   "source": [
    "model.predict_proba(X) # 확률을 계산한것. "
   ]
  },
  {
   "cell_type": "code",
   "execution_count": 17,
   "id": "86f988ab",
   "metadata": {},
   "outputs": [],
   "source": [
    "# 속성을 두 가지 사용해서 모든 종류의 꽃을 분류하는 경우\n",
    "\n",
    "X = iris.data[:,:2]\n",
    "y = iris.target\n"
   ]
  },
  {
   "cell_type": "code",
   "execution_count": 19,
   "id": "749b3ab0",
   "metadata": {},
   "outputs": [
    {
     "data": {
      "text/plain": [
       "<matplotlib.colorbar.Colorbar at 0x2729be906d0>"
      ]
     },
     "execution_count": 19,
     "metadata": {},
     "output_type": "execute_result"
    },
    {
     "data": {
      "image/png": "[encoded data removed]",
      "text/plain": [
       "<Figure size 432x288 with 2 Axes>"
      ]
     },
     "metadata": {
      "needs_background": "light"
     },
     "output_type": "display_data"
    }
   ],
   "source": [
    "plt.scatter(X[:,0], X[:,1], c=y)\n",
    "plt.colorbar()"
   ]
  },
  {
   "cell_type": "code",
   "execution_count": 21,
   "id": "666c73e7",
   "metadata": {},
   "outputs": [
    {
     "data": {
      "text/plain": [
       "array([0, 0, 0, 0, 0, 0, 0, 0, 0, 0, 0, 0, 0, 0, 0, 0, 0, 0, 0, 0, 0, 0,\n",
       "       0, 0, 0, 0, 0, 0, 0, 0, 0, 0, 0, 0, 0, 0, 0, 0, 0, 0, 0, 0, 0, 0,\n",
       "       0, 0, 0, 0, 0, 0, 2, 2, 2, 1, 2, 1, 2, 1, 2, 1, 1, 1, 1, 1, 1, 2,\n",
       "       1, 1, 1, 1, 1, 1, 1, 1, 2, 2, 2, 2, 1, 1, 1, 1, 1, 1, 1, 2, 2, 1,\n",
       "       1, 1, 1, 1, 1, 1, 1, 1, 1, 1, 1, 1, 2, 1, 2, 2, 2, 2, 1, 2, 2, 2,\n",
       "       2, 2, 2, 1, 1, 2, 2, 2, 2, 1, 2, 1, 2, 1, 2, 2, 1, 1, 2, 2, 2, 2,\n",
       "       2, 2, 1, 2, 2, 2, 1, 2, 2, 2, 1, 2, 2, 2, 1, 2, 2, 1])"
      ]
     },
     "execution_count": 21,
     "metadata": {},
     "output_type": "execute_result"
    }
   ],
   "source": [
    "model = LogisticRegression()\n",
    "model.fit(X,y)\n",
    "y_pred = model.predict(X)\n",
    "y_pred"
   ]
  },
  {
   "cell_type": "code",
   "execution_count": 22,
   "id": "ed74cbc3",
   "metadata": {},
   "outputs": [
    {
     "data": {
      "text/plain": [
       "<matplotlib.legend.Legend at 0x2729c03aaf0>"
      ]
     },
     "execution_count": 22,
     "metadata": {},
     "output_type": "execute_result"
    },
    {
     "data": {
      "image/png": "[encoded data removed]",
      "text/plain": [
       "<Figure size 432x288 with 1 Axes>"
      ]
     },
     "metadata": {},
     "output_type": "display_data"
    }
   ],
   "source": [
    "mglearn.plots.plot_2d_classification(model, X, fill=True, eps = 0.5, alpha=0.4)\n",
    "mglearn.discrete_scatter(X[:, 0], X[:,1],y)\n",
    "plt.legend(loc=4)"
   ]
  },
  {
   "cell_type": "code",
   "execution_count": 24,
   "id": "0d06b61d",
   "metadata": {},
   "outputs": [
    {
     "data": {
      "text/plain": [
       "array([[9.23473153e-01, 5.85080967e-02, 1.80187501e-02],\n",
       "       [7.91565001e-01, 1.80912648e-01, 2.75223510e-02],\n",
       "       [9.42364041e-01, 5.08634498e-02, 6.77250960e-03],\n",
       "       [9.40553540e-01, 5.37594346e-02, 5.68702546e-03],\n",
       "       [9.61853130e-01, 2.96143932e-02, 8.53247725e-03],\n",
       "       [9.43195775e-01, 3.40879207e-02, 2.27163048e-02],\n",
       "       [9.80228540e-01, 1.74171057e-02, 2.35435467e-03],\n",
       "       [9.22927337e-01, 6.19217567e-02, 1.51509067e-02],\n",
       "       [9.35998984e-01, 5.99949470e-02, 4.00606950e-03],\n",
       "       [8.47181712e-01, 1.31165035e-01, 2.16532530e-02],\n",
       "       [8.90214168e-01, 7.01091740e-02, 3.96766576e-02],\n",
       "       [9.60793368e-01, 3.31735691e-02, 6.03306252e-03],\n",
       "       [8.43554938e-01, 1.38305338e-01, 1.81397240e-02],\n",
       "       [9.67965497e-01, 3.01509884e-02, 1.88351450e-03],\n",
       "       [8.24095093e-01, 7.61837358e-02, 9.97211710e-02],\n",
       "       [9.65419483e-01, 1.34828235e-02, 2.10976937e-02],\n",
       "       [9.43195775e-01, 3.40879207e-02, 2.27163048e-02],\n",
       "       [9.23473153e-01, 5.85080967e-02, 1.80187501e-02],\n",
       "       [7.79417961e-01, 1.12636786e-01, 1.07945252e-01],\n",
       "       [9.73286839e-01, 1.91694663e-02, 7.54369519e-03],\n",
       "       [7.32310638e-01, 1.85523196e-01, 8.21661667e-02],\n",
       "       [9.61891667e-01, 2.79663749e-02, 1.01419581e-02],\n",
       "       [9.90636675e-01, 8.07758178e-03, 1.28574312e-03],\n",
       "       [8.51665510e-01, 1.17582432e-01, 3.07520580e-02],\n",
       "       [9.60793368e-01, 3.31735691e-02, 6.03306252e-03],\n",
       "       [7.27371228e-01, 2.31736927e-01, 4.08918450e-02],\n",
       "       [9.22927337e-01, 6.19217567e-02, 1.51509067e-02],\n",
       "       [8.92963511e-01, 7.88646149e-02, 2.81718743e-02],\n",
       "       [8.52303481e-01, 1.11117786e-01, 3.65787332e-02],\n",
       "       [9.42364041e-01, 5.08634498e-02, 6.77250960e-03],\n",
       "       [8.87410279e-01, 9.85619262e-02, 1.40277943e-02],\n",
       "       [7.32310638e-01, 1.85523196e-01, 8.21661667e-02],\n",
       "       [9.86667024e-01, 8.42120108e-03, 4.91177463e-03],\n",
       "       [9.69809427e-01, 1.51886551e-02, 1.50019177e-02],\n",
       "       [8.47181712e-01, 1.31165035e-01, 2.16532530e-02],\n",
       "       [8.49919111e-01, 1.24261055e-01, 2.58198340e-02],\n",
       "       [7.28548526e-01, 1.74291936e-01, 9.71595381e-02],\n",
       "       [9.73166497e-01, 2.14943564e-02, 5.33914706e-03],\n",
       "       [9.55504912e-01, 4.14888482e-02, 3.00624006e-03],\n",
       "       [8.92801976e-01, 8.35002316e-02, 2.36977928e-02],\n",
       "       [9.45610697e-01, 4.29781081e-02, 1.14111949e-02],\n",
       "       [5.08019125e-01, 4.69700679e-01, 2.22801966e-02],\n",
       "       [9.78831792e-01, 1.95040516e-02, 1.66415611e-03],\n",
       "       [9.45610697e-01, 4.29781081e-02, 1.14111949e-02],\n",
       "       [9.73286839e-01, 1.91694663e-02, 7.54369519e-03],\n",
       "       [8.43554938e-01, 1.38305338e-01, 1.81397240e-02],\n",
       "       [9.73286839e-01, 1.91694663e-02, 7.54369519e-03],\n",
       "       [9.58621742e-01, 3.71174048e-02, 4.26085305e-03],\n",
       "       [9.22456615e-01, 5.21158133e-02, 2.54275715e-02],\n",
       "       [8.91763818e-01, 8.83215025e-02, 1.99146799e-02],\n",
       "       [1.76572018e-03, 1.98159499e-01, 8.00074781e-01],\n",
       "       [2.40076870e-02, 3.67199992e-01, 6.08792321e-01],\n",
       "       [1.99574013e-03, 2.37181640e-01, 7.60822620e-01],\n",
       "       [3.12773276e-02, 8.01195592e-01, 1.67527081e-01],\n",
       "       [4.12101612e-03, 4.17231224e-01, 5.78647760e-01],\n",
       "       [9.00352823e-02, 6.39338696e-01, 2.70626022e-01],\n",
       "       [5.00960383e-02, 3.72355785e-01, 5.77548177e-01],\n",
       "       [2.78914381e-01, 6.59626821e-01, 6.14587984e-02],\n",
       "       [3.79506425e-03, 3.62833651e-01, 6.33371285e-01],\n",
       "       [2.97488368e-01, 5.92441125e-01, 1.10070507e-01],\n",
       "       [5.59442888e-02, 8.75796694e-01, 6.82590174e-02],\n",
       "       [8.63671190e-02, 5.46888217e-01, 3.66744664e-01],\n",
       "       [3.56431035e-03, 7.09429360e-01, 2.87006329e-01],\n",
       "       [2.91837970e-02, 5.30085993e-01, 4.40730210e-01],\n",
       "       [1.71899629e-01, 5.93192401e-01, 2.34907970e-01],\n",
       "       [4.80817490e-03, 2.94065298e-01, 7.01126527e-01],\n",
       "       [2.30298054e-01, 5.38356630e-01, 2.31345316e-01],\n",
       "       [4.49972717e-02, 6.57509546e-01, 2.97493182e-01],\n",
       "       [1.67146323e-03, 6.46463533e-01, 3.51865004e-01],\n",
       "       [4.53180332e-02, 7.42600197e-01, 2.12081770e-01],\n",
       "       [1.61278941e-01, 4.68647294e-01, 3.70073764e-01],\n",
       "       [2.06795629e-02, 5.54481076e-01, 4.24839361e-01],\n",
       "       [3.29151673e-03, 5.51667659e-01, 4.45040824e-01],\n",
       "       [2.06795629e-02, 5.54481076e-01, 4.24839361e-01],\n",
       "       [8.76895928e-03, 4.31442498e-01, 5.59788543e-01],\n",
       "       [5.30645362e-03, 3.43678178e-01, 6.51015369e-01],\n",
       "       [1.15102046e-03, 3.15664591e-01, 6.83184389e-01],\n",
       "       [3.45245160e-03, 3.11696525e-01, 6.84851023e-01],\n",
       "       [4.27896195e-02, 5.57553028e-01, 3.99657352e-01],\n",
       "       [4.53796747e-02, 7.02200804e-01, 2.52419521e-01],\n",
       "       [4.48630038e-02, 7.78496059e-01, 1.76640937e-01],\n",
       "       [4.48630038e-02, 7.78496059e-01, 1.76640937e-01],\n",
       "       [4.49972717e-02, 6.57509546e-01, 2.97493182e-01],\n",
       "       [2.14231027e-02, 6.08291583e-01, 3.70285315e-01],\n",
       "       [3.86511408e-01, 4.64973881e-01, 1.48514711e-01],\n",
       "       [2.05603828e-01, 3.82185971e-01, 4.12210201e-01],\n",
       "       [4.80817490e-03, 2.94065298e-01, 7.01126527e-01],\n",
       "       [1.62221936e-03, 5.92478670e-01, 4.05899111e-01],\n",
       "       [2.30298054e-01, 5.38356630e-01, 2.31345316e-01],\n",
       "       [6.38999207e-02, 7.51151515e-01, 1.84948564e-01],\n",
       "       [9.01646754e-02, 7.17997298e-01, 1.91838027e-01],\n",
       "       [4.09736735e-02, 5.04160240e-01, 4.54866086e-01],\n",
       "       [3.16815360e-02, 6.83381081e-01, 2.84937383e-01],\n",
       "       [1.57448972e-01, 7.66240053e-01, 7.63109745e-02],\n",
       "       [9.05091442e-02, 6.80604446e-01, 2.28886410e-01],\n",
       "       [1.69984524e-01, 5.53918615e-01, 2.76096861e-01],\n",
       "       [1.24689657e-01, 5.99801917e-01, 2.75508426e-01],\n",
       "       [1.97090916e-02, 4.99031453e-01, 4.81259455e-01],\n",
       "       [2.20428334e-01, 6.86226573e-01, 9.33450928e-02],\n",
       "       [9.00352823e-02, 6.39338696e-01, 2.70626022e-01],\n",
       "       [5.00960383e-02, 3.72355785e-01, 5.77548177e-01],\n",
       "       [4.49972717e-02, 6.57509546e-01, 2.97493182e-01],\n",
       "       [5.89031596e-04, 2.00802940e-01, 7.98608028e-01],\n",
       "       [1.31966235e-02, 4.65780087e-01, 5.21023290e-01],\n",
       "       [8.10784206e-03, 3.76700403e-01, 6.15191754e-01],\n",
       "       [5.95999427e-05, 1.06945179e-01, 8.92995221e-01],\n",
       "       [3.61785538e-01, 5.79612522e-01, 5.86019398e-02],\n",
       "       [1.72393052e-04, 1.68579839e-01, 8.31247768e-01],\n",
       "       [6.41854469e-04, 4.06204884e-01, 5.93153262e-01],\n",
       "       [2.54560524e-03, 1.16905316e-01, 8.80549079e-01],\n",
       "       [1.57921385e-02, 3.36705387e-01, 6.47502474e-01],\n",
       "       [4.41792083e-03, 4.73668474e-01, 5.21913605e-01],\n",
       "       [2.23418704e-03, 2.81177567e-01, 7.16588246e-01],\n",
       "       [3.18378264e-02, 7.27250780e-01, 2.40911393e-01],\n",
       "       [6.34571988e-02, 6.28139256e-01, 3.08403546e-01],\n",
       "       [2.40076870e-02, 3.67199992e-01, 6.08792321e-01],\n",
       "       [8.10784206e-03, 3.76700403e-01, 6.15191754e-01],\n",
       "       [4.59216296e-04, 5.09404415e-02, 9.48600342e-01],\n",
       "       [1.05436640e-05, 1.25235391e-01, 8.74754066e-01],\n",
       "       [3.56431035e-03, 7.09429360e-01, 2.87006329e-01],\n",
       "       [2.76437439e-03, 2.22552817e-01, 7.74682809e-01],\n",
       "       [1.25738529e-01, 6.40515812e-01, 2.33745659e-01],\n",
       "       [1.98870889e-05, 1.08398943e-01, 8.91581170e-01],\n",
       "       [6.62355773e-03, 5.09437721e-01, 4.83938721e-01],\n",
       "       [9.27098556e-03, 2.60200269e-01, 7.30528745e-01],\n",
       "       [7.12415091e-04, 1.55360168e-01, 8.43927417e-01],\n",
       "       [1.39676203e-02, 5.22064992e-01, 4.63967387e-01],\n",
       "       [4.09736735e-02, 5.04160240e-01, 4.54866086e-01],\n",
       "       [6.23163052e-03, 4.52602977e-01, 5.41165393e-01],\n",
       "       [3.74757037e-04, 1.78089392e-01, 8.21535851e-01],\n",
       "       [7.92450214e-05, 1.59461367e-01, 8.40459388e-01],\n",
       "       [1.78031073e-04, 3.83755647e-02, 9.61446404e-01],\n",
       "       [6.23163052e-03, 4.52602977e-01, 5.41165393e-01],\n",
       "       [9.36228810e-03, 4.87799030e-01, 5.02838682e-01],\n",
       "       [1.02620188e-02, 5.99597570e-01, 3.90140411e-01],\n",
       "       [3.74132250e-05, 9.35830714e-02, 9.06379515e-01],\n",
       "       [6.89178654e-02, 3.47012963e-01, 5.84069172e-01],\n",
       "       [1.72192325e-02, 3.88782738e-01, 5.93998029e-01],\n",
       "       [5.99061878e-02, 5.28784353e-01, 4.11309459e-01],\n",
       "       [1.99574013e-03, 2.37181640e-01, 7.60822620e-01],\n",
       "       [4.80817490e-03, 2.94065298e-01, 7.01126527e-01],\n",
       "       [1.99574013e-03, 2.37181640e-01, 7.60822620e-01],\n",
       "       [4.49972717e-02, 6.57509546e-01, 2.97493182e-01],\n",
       "       [4.30900105e-03, 2.48860550e-01, 7.46830448e-01],\n",
       "       [9.27098556e-03, 2.60200269e-01, 7.30528745e-01],\n",
       "       [3.45245160e-03, 3.11696525e-01, 6.84851023e-01],\n",
       "       [3.29151673e-03, 5.51667659e-01, 4.45040824e-01],\n",
       "       [8.10784206e-03, 3.76700403e-01, 6.15191754e-01],\n",
       "       [1.01486572e-01, 3.66577399e-01, 5.31936029e-01],\n",
       "       [8.63671190e-02, 5.46888217e-01, 3.66744664e-01]])"
      ]
     },
     "execution_count": 24,
     "metadata": {},
     "output_type": "execute_result"
    }
   ],
   "source": [
    "model.predict_proba(X)"
   ]
  },
  {
   "cell_type": "code",
   "execution_count": 29,
   "id": "939738e3",
   "metadata": {},
   "outputs": [
    {
     "name": "stderr",
     "output_type": "stream",
     "text": [
      "C:\\Users\\SP501_47\\anaconda3\\lib\\site-packages\\sklearn\\linear_model\\_logistic.py:763: ConvergenceWarning: lbfgs failed to converge (status=1):\n",
      "STOP: TOTAL NO. of ITERATIONS REACHED LIMIT.\n",
      "\n",
      "Increase the number of iterations (max_iter) or scale the data as shown in:\n",
      "    https://scikit-learn.org/stable/modules/preprocessing.html\n",
      "Please also refer to the documentation for alternative solver options:\n",
      "    https://scikit-learn.org/stable/modules/linear_model.html#logistic-regression\n",
      "  n_iter_i = _check_optimize_result(\n"
     ]
    },
    {
     "data": {
      "text/plain": [
       "array([0, 0, 0, 0, 0, 0, 0, 0, 0, 0, 0, 0, 0, 0, 0, 0, 0, 0, 0, 0, 0, 0,\n",
       "       0, 0, 0, 0, 0, 0, 0, 0, 0, 0, 0, 0, 0, 0, 0, 0, 0, 0, 0, 0, 0, 0,\n",
       "       0, 0, 0, 0, 0, 0, 1, 1, 1, 1, 1, 1, 1, 1, 1, 1, 1, 1, 1, 1, 1, 1,\n",
       "       1, 1, 1, 1, 1, 1, 1, 1, 1, 1, 1, 1, 1, 1, 1, 1, 1, 1, 1, 1, 1, 1,\n",
       "       1, 1, 1, 1, 1, 1, 1, 1, 1, 1, 1, 1, 2, 2, 2, 2, 2, 2, 2, 2, 2, 2,\n",
       "       2, 2, 2, 2, 2, 2, 2, 2, 2, 2, 2, 2, 2, 2, 2, 2, 2, 2, 2, 2, 2, 2,\n",
       "       2, 2, 2, 2, 2, 2, 2, 2, 2, 2, 2, 2, 2, 2, 2, 2, 2, 2])"
      ]
     },
     "metadata": {},
     "output_type": "display_data"
    },
    {
     "data": {
      "text/plain": [
       "array([0, 0, 0, 0, 0, 0, 0, 0, 0, 0, 0, 0, 0, 0, 0, 0, 0, 0, 0, 0, 0, 0,\n",
       "       0, 0, 0, 0, 0, 0, 0, 0, 0, 0, 0, 0, 0, 0, 0, 0, 0, 0, 0, 0, 0, 0,\n",
       "       0, 0, 0, 0, 0, 0, 1, 1, 1, 1, 1, 1, 1, 1, 1, 1, 1, 1, 1, 1, 1, 1,\n",
       "       1, 1, 1, 1, 2, 1, 1, 1, 1, 1, 1, 2, 1, 1, 1, 1, 1, 2, 1, 1, 1, 1,\n",
       "       1, 1, 1, 1, 1, 1, 1, 1, 1, 1, 1, 1, 2, 2, 2, 2, 2, 2, 1, 2, 2, 2,\n",
       "       2, 2, 2, 2, 2, 2, 2, 2, 2, 2, 2, 2, 2, 2, 2, 2, 2, 2, 2, 2, 2, 2,\n",
       "       2, 2, 2, 2, 2, 2, 2, 2, 2, 2, 2, 2, 2, 2, 2, 2, 2, 2])"
      ]
     },
     "metadata": {},
     "output_type": "display_data"
    }
   ],
   "source": [
    "# 모든 속성을 사용해서 모든 종류의 꽃을 분류하는 경우\n",
    "\n",
    "X = iris.data\n",
    "y = iris.target\n",
    "\n",
    "model = LogisticRegression()\n",
    "model.fit(X, y)\n",
    "y_pred = model.predict(X)\n",
    "\n",
    "display(y, y_pred)"
   ]
  },
  {
   "cell_type": "code",
   "execution_count": 33,
   "id": "96dcdcd8",
   "metadata": {},
   "outputs": [
    {
     "data": {
      "text/plain": [
       "0.9733333333333334"
      ]
     },
     "execution_count": 33,
     "metadata": {},
     "output_type": "execute_result"
    }
   ],
   "source": [
    "model.score(X, y)"
   ]
  },
  {
   "cell_type": "code",
   "execution_count": 36,
   "id": "47238e13",
   "metadata": {},
   "outputs": [
    {
     "data": {
      "text/plain": [
       "146"
      ]
     },
     "execution_count": 36,
     "metadata": {},
     "output_type": "execute_result"
    }
   ],
   "source": [
    "(y==y_pred).sum()"
   ]
  },
  {
   "cell_type": "code",
   "execution_count": 37,
   "id": "dfd4808c",
   "metadata": {},
   "outputs": [
    {
     "data": {
      "text/plain": [
       "(array([ 70,  77,  83, 106], dtype=int64),)"
      ]
     },
     "execution_count": 37,
     "metadata": {},
     "output_type": "execute_result"
    }
   ],
   "source": [
    "np.where(y!=y_pred)\n"
   ]
  },
  {
   "cell_type": "code",
   "execution_count": 38,
   "id": "5291a206",
   "metadata": {},
   "outputs": [
    {
     "name": "stderr",
     "output_type": "stream",
     "text": [
      "C:\\Users\\SP501_47\\AppData\\Local\\Temp/ipykernel_7464/565979814.py:1: FutureWarning: Using a non-tuple sequence for multidimensional indexing is deprecated; use `arr[tuple(seq)]` instead of `arr[seq]`. In the future this will be interpreted as an array index, `arr[np.array(seq)]`, which will result either in an error or a different result.\n",
      "  y[[np.where(y!=y_pred)]]\n"
     ]
    },
    {
     "data": {
      "text/plain": [
       "array([[1, 1, 1, 2]])"
      ]
     },
     "execution_count": 38,
     "metadata": {},
     "output_type": "execute_result"
    }
   ],
   "source": [
    "y[[np.where(y!=y_pred)]]\n"
   ]
  },
  {
   "cell_type": "code",
   "execution_count": null,
   "id": "dd2dc8a2",
   "metadata": {},
   "outputs": [],
   "source": []
  },
  {
   "cell_type": "code",
   "execution_count": null,
   "id": "f2f288f7",
   "metadata": {},
   "outputs": [],
   "source": []
  }
 ],
 "metadata": {
  "kernelspec": {
   "display_name": "Python 3 (ipykernel)",
   "language": "python",
   "name": "python3"
  },
  "language_info": {
   "codemirror_mode": {
    "name": "ipython",
    "version": 3
   },
   "file_extension": ".py",
   "mimetype": "text/x-python",
   "name": "python",
   "nbconvert_exporter": "python",
   "pygments_lexer": "ipython3",
   "version": "3.9.7"
  }
 },
 "nbformat": 4,
 "nbformat_minor": 5
}
