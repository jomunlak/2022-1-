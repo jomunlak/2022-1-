{
 "cells": [
  {
   "cell_type": "code",
   "execution_count": 2,
   "id": "a458adca",
   "metadata": {},
   "outputs": [],
   "source": [
    "import tensorflow as tf\n",
    "from tensorflow import keras\n",
    "import matplotlib.pyplot as plt\n",
    "import numpy as np\n",
    "import pandas as pd\n"
   ]
  },
  {
   "cell_type": "code",
   "execution_count": 26,
   "id": "7b0e1b8e",
   "metadata": {},
   "outputs": [
    {
     "data": {
      "text/plain": [
       "((60000, 28, 28), (60000,), (10000, 28, 28), (10000,))"
      ]
     },
     "execution_count": 26,
     "metadata": {},
     "output_type": "execute_result"
    }
   ],
   "source": [
    "(X_train, y_train), (X_test, y_test) = keras.datasets.mnist.load_data()\n",
    "X_train.shape, y_train.shape, X_test.shape, y_test.shape"
   ]
  },
  {
   "cell_type": "code",
   "execution_count": 27,
   "id": "134f62af",
   "metadata": {},
   "outputs": [
    {
     "data": {
      "text/plain": [
       "((60000, 28, 28, 1), (10000, 28, 28, 1))"
      ]
     },
     "execution_count": 27,
     "metadata": {},
     "output_type": "execute_result"
    }
   ],
   "source": [
    "### 데이터 전처리\n",
    "X_train = X_train.reshape(-1,28,28,1)/255 # 0~1 사이의 값으로 정규화\n",
    "X_test = X_test.reshape(-1,28,28,1)/255\n",
    "X_train.shape, X_test.shape\n"
   ]
  },
  {
   "cell_type": "code",
   "execution_count": 28,
   "id": "d1fcc797",
   "metadata": {},
   "outputs": [
    {
     "data": {
      "text/plain": [
       "((60000, 10), (10000, 10))"
      ]
     },
     "execution_count": 28,
     "metadata": {},
     "output_type": "execute_result"
    }
   ],
   "source": [
    "### 원핫인코딩\n",
    "y_train = np.eye(10)[y_train]\n",
    "y_test  = np.eye(10)[y_test]\n",
    "y_train.shape, y_test.shape"
   ]
  },
  {
   "cell_type": "code",
   "execution_count": 29,
   "id": "ab1b642e",
   "metadata": {},
   "outputs": [],
   "source": [
    "# model = keras.models.Sequential() # relu : 음수는 0으로 바꾸는 것\n",
    "# model.add(keras.layers.Conv2D(filters=30, kernel_size=(3,3), padding='same', activation='relu', input_shape = (28,28,1)))\n",
    "# model.add(keras.layers.MaxPool2D(pool_size=(2,2))) # kernal_size : 필터 크기 filters : 필터 개수\n",
    "# model.add(keras.layers.Conv2D(filters=60, kernel_size=(3,3), padding='same', activation='relu'))\n",
    "# model.add(keras.layers.MaxPool2D(pool_size=(2,2))) # pool_size(2,2): 2*2 크기 격자로 자름, 전체 크기는 절반으로 줄어듬\n",
    "# model.add(keras.layers.Conv2D(filters=120, kernel_size=(3,3), padding='same', activation='relu'))\n",
    "# model.add(keras.layers.MaxPool2D(pool_size=(2,2)))\n",
    "# model.add(keras.layers.Flatten()) # 3 차원 데이터를 1차원 데이터로 풀어버림\n",
    "# model.add(keras.layers.Dense(100, activation='relu'))\n",
    "# model.add(keras.layers.Dense(10, activation='softmax'))\n",
    "\n",
    "\n",
    "\n",
    "model = keras.models.Sequential()\n",
    "model.add(keras.layers.Conv2D(filters=30, kernel_size=(3,3), padding='same',\n",
    "                              activation='relu', input_shape=(28,28,1)))\n",
    "model.add(keras.layers.MaxPool2D(pool_size=(2,2)))\n",
    "model.add(keras.layers.Conv2D(filters=60, kernel_size=(3,3), padding='same',\n",
    "                              activation='relu'))\n",
    "model.add(keras.layers.MaxPool2D(pool_size=(2,2)))\n",
    "model.add(keras.layers.Conv2D(filters=120, kernel_size=(3,3), padding='same',\n",
    "                              activation='relu'))\n",
    "model.add(keras.layers.MaxPool2D(pool_size=(2,2)))\n",
    "model.add(keras.layers.Flatten())\n",
    "model.add(keras.layers.Dense(100, activation='relu'))\n",
    "model.add(keras.layers.Dense(10, activation='softmax'))"
   ]
  },
  {
   "cell_type": "code",
   "execution_count": 30,
   "id": "4b9e85da",
   "metadata": {},
   "outputs": [
    {
     "name": "stdout",
     "output_type": "stream",
     "text": [
      "Model: \"sequential_2\"\n",
      "_________________________________________________________________\n",
      " Layer (type)                Output Shape              Param #   \n",
      "=================================================================\n",
      " conv2d_6 (Conv2D)           (None, 28, 28, 30)        300       \n",
      "                                                                 \n",
      " max_pooling2d_6 (MaxPooling  (None, 14, 14, 30)       0         \n",
      " 2D)                                                             \n",
      "                                                                 \n",
      " conv2d_7 (Conv2D)           (None, 14, 14, 60)        16260     \n",
      "                                                                 \n",
      " max_pooling2d_7 (MaxPooling  (None, 7, 7, 60)         0         \n",
      " 2D)                                                             \n",
      "                                                                 \n",
      " conv2d_8 (Conv2D)           (None, 7, 7, 120)         64920     \n",
      "                                                                 \n",
      " max_pooling2d_8 (MaxPooling  (None, 3, 3, 120)        0         \n",
      " 2D)                                                             \n",
      "                                                                 \n",
      " flatten_2 (Flatten)         (None, 1080)              0         \n",
      "                                                                 \n",
      " dense_4 (Dense)             (None, 100)               108100    \n",
      "                                                                 \n",
      " dense_5 (Dense)             (None, 10)                1010      \n",
      "                                                                 \n",
      "=================================================================\n",
      "Total params: 190,590\n",
      "Trainable params: 190,590\n",
      "Non-trainable params: 0\n",
      "_________________________________________________________________\n"
     ]
    }
   ],
   "source": [
    "model.summary()"
   ]
  },
  {
   "cell_type": "code",
   "execution_count": 31,
   "id": "8e3e63e7",
   "metadata": {},
   "outputs": [],
   "source": [
    "model.compile(loss='categorical_crossentropy', optimizer='adam', metrics=['acc'])"
   ]
  },
  {
   "cell_type": "code",
   "execution_count": 33,
   "id": "033b4f57",
   "metadata": {},
   "outputs": [
    {
     "name": "stdout",
     "output_type": "stream",
     "text": [
      "Epoch 1/20\n",
      "450/450 [==============================] - 20s 45ms/step - loss: 0.0482 - acc: 0.9849 - val_loss: 0.0426 - val_acc: 0.9869\n",
      "Epoch 2/20\n",
      "450/450 [==============================] - 20s 44ms/step - loss: 0.0331 - acc: 0.9906 - val_loss: 0.0435 - val_acc: 0.9865\n",
      "Epoch 3/20\n",
      "450/450 [==============================] - 20s 44ms/step - loss: 0.0250 - acc: 0.9920 - val_loss: 0.0396 - val_acc: 0.9888\n",
      "Epoch 4/20\n",
      "450/450 [==============================] - 20s 44ms/step - loss: 0.0219 - acc: 0.9928 - val_loss: 0.0366 - val_acc: 0.9892\n",
      "Epoch 5/20\n",
      "450/450 [==============================] - 20s 44ms/step - loss: 0.0184 - acc: 0.9942 - val_loss: 0.0410 - val_acc: 0.9872\n",
      "Epoch 6/20\n",
      "450/450 [==============================] - 20s 44ms/step - loss: 0.0150 - acc: 0.9949 - val_loss: 0.0377 - val_acc: 0.9903\n",
      "Epoch 7/20\n",
      "450/450 [==============================] - 20s 44ms/step - loss: 0.0126 - acc: 0.9957 - val_loss: 0.0389 - val_acc: 0.9879\n",
      "Epoch 8/20\n",
      "450/450 [==============================] - 20s 44ms/step - loss: 0.0113 - acc: 0.9963 - val_loss: 0.0342 - val_acc: 0.9911\n",
      "Epoch 9/20\n",
      "450/450 [==============================] - 20s 44ms/step - loss: 0.0100 - acc: 0.9966 - val_loss: 0.0447 - val_acc: 0.9891\n",
      "Epoch 10/20\n",
      "450/450 [==============================] - 20s 44ms/step - loss: 0.0088 - acc: 0.9970 - val_loss: 0.0413 - val_acc: 0.9890\n",
      "Epoch 11/20\n",
      "450/450 [==============================] - 20s 44ms/step - loss: 0.0103 - acc: 0.9965 - val_loss: 0.0400 - val_acc: 0.9893\n",
      "Epoch 12/20\n",
      "450/450 [==============================] - 20s 44ms/step - loss: 0.0061 - acc: 0.9979 - val_loss: 0.0415 - val_acc: 0.9910\n",
      "Epoch 13/20\n",
      "450/450 [==============================] - 20s 44ms/step - loss: 0.0078 - acc: 0.9973 - val_loss: 0.0424 - val_acc: 0.9913\n",
      "Epoch 14/20\n",
      "450/450 [==============================] - 20s 44ms/step - loss: 0.0069 - acc: 0.9978 - val_loss: 0.0378 - val_acc: 0.9900\n",
      "Epoch 15/20\n",
      "450/450 [==============================] - 20s 44ms/step - loss: 0.0048 - acc: 0.9983 - val_loss: 0.0419 - val_acc: 0.9904\n",
      "Epoch 16/20\n",
      "450/450 [==============================] - 20s 44ms/step - loss: 0.0063 - acc: 0.9977 - val_loss: 0.0491 - val_acc: 0.9881\n",
      "Epoch 17/20\n",
      "450/450 [==============================] - 20s 44ms/step - loss: 0.0060 - acc: 0.9980 - val_loss: 0.0451 - val_acc: 0.9903\n",
      "Epoch 18/20\n",
      "450/450 [==============================] - 20s 44ms/step - loss: 0.0033 - acc: 0.9989 - val_loss: 0.0591 - val_acc: 0.9869\n",
      "Epoch 19/20\n",
      "450/450 [==============================] - 20s 44ms/step - loss: 0.0024 - acc: 0.9994 - val_loss: 0.0634 - val_acc: 0.9897\n",
      "Epoch 20/20\n",
      "450/450 [==============================] - 20s 45ms/step - loss: 0.0067 - acc: 0.9979 - val_loss: 0.0434 - val_acc: 0.9901\n"
     ]
    }
   ],
   "source": [
    "\n",
    "history = model.fit(X_train, y_train, epochs=20, batch_size = 100, validation_split=0.25)\n"
   ]
  },
  {
   "cell_type": "code",
   "execution_count": 36,
   "id": "5c1f342f",
   "metadata": {},
   "outputs": [
    {
     "data": {
      "text/plain": [
       "<matplotlib.legend.Legend at 0x1e48e925730>"
      ]
     },
     "execution_count": 36,
     "metadata": {},
     "output_type": "execute_result"
    },
    {
     "data": {
      "image/png": "[encoded data removed]",
      "text/plain": [
       "<Figure size 432x288 with 2 Axes>"
      ]
     },
     "metadata": {
      "needs_background": "light"
     },
     "output_type": "display_data"
    }
   ],
   "source": [
    "plt.subplot(1,2,1)\n",
    "plt.plot(history.history['acc'])\n",
    "plt.plot(history.history['val_acc'])\n",
    "plt.legend('acc, val_acc')\n",
    "\n",
    "plt.subplot(1,2,2)\n",
    "plt.plot(history.history['loss'])\n",
    "plt.plot(history.history['val_loss'])\n",
    "plt.legend('loss, val_loss')"
   ]
  },
  {
   "cell_type": "code",
   "execution_count": 37,
   "id": "4636c263",
   "metadata": {},
   "outputs": [
    {
     "name": "stdout",
     "output_type": "stream",
     "text": [
      "313/313 [==============================] - 1s 4ms/step\n"
     ]
    },
    {
     "data": {
      "text/plain": [
       "(10000, 10)"
      ]
     },
     "execution_count": 37,
     "metadata": {},
     "output_type": "execute_result"
    }
   ],
   "source": [
    "y_pred = model.predict(X_test)\n",
    "y_pred.shape"
   ]
  },
  {
   "cell_type": "code",
   "execution_count": 38,
   "id": "910d646c",
   "metadata": {},
   "outputs": [
    {
     "data": {
      "text/plain": [
       "(array([ 115,  149,  326,  340,  412,  445,  625,  674,  726,  740,  947,\n",
       "        1014, 1044, 1182, 1242, 1299, 1319, 1331, 1393, 1459, 1559, 1709,\n",
       "        1737, 1878, 1901, 1924, 1999, 2035, 2118, 2129, 2130, 2135, 2182,\n",
       "        2266, 2329, 2369, 2447, 2462, 2597, 2654, 2771, 2896, 2927, 2939,\n",
       "        2970, 3023, 3225, 3422, 3451, 3520, 3558, 3597, 3727, 3762, 3767,\n",
       "        3808, 4176, 4238, 4271, 4284, 4360, 4443, 4536, 4571, 4575, 4731,\n",
       "        4761, 4783, 4814, 4823, 4860, 4911, 5165, 5201, 5450, 5654, 5752,\n",
       "        5937, 5955, 5981, 5982, 5997, 6042, 6571, 6576, 6597, 6625, 6651,\n",
       "        6783, 6981, 8059, 8382, 8520, 8527, 9009, 9015, 9642, 9664, 9679,\n",
       "        9692, 9729, 9922], dtype=int64),)"
      ]
     },
     "execution_count": 38,
     "metadata": {},
     "output_type": "execute_result"
    }
   ],
   "source": [
    "np.where(y_pred.argmax(axis = 1) != y_test.argmax(axis= 1))"
   ]
  },
  {
   "cell_type": "code",
   "execution_count": 57,
   "id": "8f9d9aab",
   "metadata": {},
   "outputs": [
    {
     "data": {
      "text/plain": [
       "<matplotlib.image.AxesImage at 0x1e4e21d3820>"
      ]
     },
     "execution_count": 57,
     "metadata": {},
     "output_type": "execute_result"
    },
    {
     "data": {
      "image/png": "[encoded data removed]",
      "text/plain": [
       "<Figure size 432x288 with 1 Axes>"
      ]
     },
     "metadata": {
      "needs_background": "light"
     },
     "output_type": "display_data"
    }
   ],
   "source": [
    "n = 1299\n",
    "plt.title(np.argmax(y_test[n]))\n",
    "plt.imshow(X_test[n,:,:,0], cmap= 'gray')"
   ]
  },
  {
   "cell_type": "code",
   "execution_count": null,
   "id": "e0cb2534",
   "metadata": {},
   "outputs": [],
   "source": []
  },
  {
   "cell_type": "code",
   "execution_count": null,
   "id": "9235ebb2",
   "metadata": {},
   "outputs": [],
   "source": []
  },
  {
   "cell_type": "code",
   "execution_count": null,
   "id": "27d5864b",
   "metadata": {},
   "outputs": [],
   "source": []
  },
  {
   "cell_type": "code",
   "execution_count": null,
   "id": "5b82cfdf",
   "metadata": {},
   "outputs": [],
   "source": []
  },
  {
   "cell_type": "code",
   "execution_count": null,
   "id": "605c3121",
   "metadata": {},
   "outputs": [],
   "source": []
  },
  {
   "cell_type": "code",
   "execution_count": null,
   "id": "658eb57a",
   "metadata": {},
   "outputs": [],
   "source": []
  }
 ],
 "metadata": {
  "kernelspec": {
   "display_name": "Python 3 (ipykernel)",
   "language": "python",
   "name": "python3"
  },
  "language_info": {
   "codemirror_mode": {
    "name": "ipython",
    "version": 3
   },
   "file_extension": ".py",
   "mimetype": "text/x-python",
   "name": "python",
   "nbconvert_exporter": "python",
   "pygments_lexer": "ipython3",
   "version": "3.9.7"
  }
 },
 "nbformat": 4,
 "nbformat_minor": 5
}
