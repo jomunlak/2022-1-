{
 "cells": [
  {
   "cell_type": "code",
   "execution_count": 28,
   "id": "8685e448",
   "metadata": {},
   "outputs": [],
   "source": [
    "import tensorflow as tf\n",
    "from tensorflow import keras\n",
    "from sklearn.datasets import load_iris\n",
    "import matplotlib.pyplot as plt\n",
    "import numpy as np\n",
    "iris = load_iris()"
   ]
  },
  {
   "cell_type": "code",
   "execution_count": 3,
   "id": "b9b7afbc",
   "metadata": {},
   "outputs": [
    {
     "data": {
      "text/plain": [
       "((150, 3), (150,))"
      ]
     },
     "execution_count": 3,
     "metadata": {},
     "output_type": "execute_result"
    }
   ],
   "source": [
    "X = iris.data[:,:3]\n",
    "y = iris.data[:,3]\n",
    "X.shape, y.shape"
   ]
  },
  {
   "cell_type": "code",
   "execution_count": 10,
   "id": "f4538028",
   "metadata": {},
   "outputs": [],
   "source": [
    "# 신경망 모델 설계\n",
    "\n",
    "model = keras.models.Sequential() \n",
    "model.add(keras.layers.Dense(100, activation='relu', input_shape = (3,)))  # 입력 바로 다음에있는 중간층 레이어\n",
    "model.add(keras.layers.Dense(10, activation='relu'))    # 두 번째 중간층 레이어\n",
    "model.add(keras.layers.Dense(1))    # 결과층 레이어\n",
    "\n",
    "# 항상 비슷한 방식으로 사용하기 때문에 한 번 써 놓으면 복사해서 쓸 수 있다."
   ]
  },
  {
   "cell_type": "code",
   "execution_count": 11,
   "id": "40246d3f",
   "metadata": {},
   "outputs": [
    {
     "name": "stdout",
     "output_type": "stream",
     "text": [
      "Model: \"sequential_3\"\n",
      "_________________________________________________________________\n",
      " Layer (type)                Output Shape              Param #   \n",
      "=================================================================\n",
      " dense_11 (Dense)            (None, 100)               400       \n",
      "                                                                 \n",
      " dense_12 (Dense)            (None, 10)                1010      \n",
      "                                                                 \n",
      " dense_13 (Dense)            (None, 1)                 11        \n",
      "                                                                 \n",
      "=================================================================\n",
      "Total params: 1,421\n",
      "Trainable params: 1,421\n",
      "Non-trainable params: 0\n",
      "_________________________________________________________________\n"
     ]
    }
   ],
   "source": [
    "model.summary()\n",
    "\n",
    "# Params : 화살표 개수"
   ]
  },
  {
   "cell_type": "code",
   "execution_count": 12,
   "id": "bfed833d",
   "metadata": {},
   "outputs": [
    {
     "name": "stdout",
     "output_type": "stream",
     "text": [
      "Epoch 1/50\n",
      "5/5 [==============================] - 0s 1ms/step - loss: 2.2340\n",
      "Epoch 2/50\n",
      "5/5 [==============================] - 0s 1ms/step - loss: 1.1818\n",
      "Epoch 3/50\n",
      "5/5 [==============================] - 0s 1ms/step - loss: 0.5764\n",
      "Epoch 4/50\n",
      "5/5 [==============================] - 0s 1ms/step - loss: 0.3005\n",
      "Epoch 5/50\n",
      "5/5 [==============================] - 0s 1ms/step - loss: 0.2154\n",
      "Epoch 6/50\n",
      "5/5 [==============================] - 0s 997us/step - loss: 0.1644\n",
      "Epoch 7/50\n",
      "5/5 [==============================] - 0s 998us/step - loss: 0.1296\n",
      "Epoch 8/50\n",
      "5/5 [==============================] - 0s 1ms/step - loss: 0.1015\n",
      "Epoch 9/50\n",
      "5/5 [==============================] - 0s 997us/step - loss: 0.0796\n",
      "Epoch 10/50\n",
      "5/5 [==============================] - 0s 997us/step - loss: 0.0650\n",
      "Epoch 11/50\n",
      "5/5 [==============================] - 0s 1ms/step - loss: 0.0574\n",
      "Epoch 12/50\n",
      "5/5 [==============================] - 0s 748us/step - loss: 0.0526\n",
      "Epoch 13/50\n",
      "5/5 [==============================] - 0s 1ms/step - loss: 0.0503\n",
      "Epoch 14/50\n",
      "5/5 [==============================] - 0s 1ms/step - loss: 0.0498\n",
      "Epoch 15/50\n",
      "5/5 [==============================] - 0s 997us/step - loss: 0.0493\n",
      "Epoch 16/50\n",
      "5/5 [==============================] - 0s 1ms/step - loss: 0.0489\n",
      "Epoch 17/50\n",
      "5/5 [==============================] - 0s 903us/step - loss: 0.0486\n",
      "Epoch 18/50\n",
      "5/5 [==============================] - 0s 1ms/step - loss: 0.0480\n",
      "Epoch 19/50\n",
      "5/5 [==============================] - 0s 997us/step - loss: 0.0477\n",
      "Epoch 20/50\n",
      "5/5 [==============================] - 0s 997us/step - loss: 0.0472\n",
      "Epoch 21/50\n",
      "5/5 [==============================] - 0s 1ms/step - loss: 0.0467\n",
      "Epoch 22/50\n",
      "5/5 [==============================] - 0s 1ms/step - loss: 0.0464\n",
      "Epoch 23/50\n",
      "5/5 [==============================] - 0s 991us/step - loss: 0.0461\n",
      "Epoch 24/50\n",
      "5/5 [==============================] - 0s 997us/step - loss: 0.0458\n",
      "Epoch 25/50\n",
      "5/5 [==============================] - 0s 960us/step - loss: 0.0466\n",
      "Epoch 26/50\n",
      "5/5 [==============================] - 0s 997us/step - loss: 0.0454\n",
      "Epoch 27/50\n",
      "5/5 [==============================] - 0s 910us/step - loss: 0.0451\n",
      "Epoch 28/50\n",
      "5/5 [==============================] - 0s 953us/step - loss: 0.0454\n",
      "Epoch 29/50\n",
      "5/5 [==============================] - 0s 1ms/step - loss: 0.0452\n",
      "Epoch 30/50\n",
      "5/5 [==============================] - 0s 997us/step - loss: 0.0440\n",
      "Epoch 31/50\n",
      "5/5 [==============================] - 0s 985us/step - loss: 0.0440\n",
      "Epoch 32/50\n",
      "5/5 [==============================] - 0s 1ms/step - loss: 0.0435\n",
      "Epoch 33/50\n",
      "5/5 [==============================] - 0s 1ms/step - loss: 0.0436\n",
      "Epoch 34/50\n",
      "5/5 [==============================] - 0s 1ms/step - loss: 0.0433\n",
      "Epoch 35/50\n",
      "5/5 [==============================] - 0s 1ms/step - loss: 0.0435\n",
      "Epoch 36/50\n",
      "5/5 [==============================] - 0s 1000us/step - loss: 0.0438\n",
      "Epoch 37/50\n",
      "5/5 [==============================] - 0s 1ms/step - loss: 0.0432\n",
      "Epoch 38/50\n",
      "5/5 [==============================] - 0s 997us/step - loss: 0.0428\n",
      "Epoch 39/50\n",
      "5/5 [==============================] - 0s 997us/step - loss: 0.0414\n",
      "Epoch 40/50\n",
      "5/5 [==============================] - 0s 997us/step - loss: 0.0417\n",
      "Epoch 41/50\n",
      "5/5 [==============================] - 0s 851us/step - loss: 0.0413\n",
      "Epoch 42/50\n",
      "5/5 [==============================] - 0s 1ms/step - loss: 0.0408\n",
      "Epoch 43/50\n",
      "5/5 [==============================] - 0s 2ms/step - loss: 0.0412\n",
      "Epoch 44/50\n",
      "5/5 [==============================] - 0s 1ms/step - loss: 0.0405\n",
      "Epoch 45/50\n",
      "5/5 [==============================] - 0s 997us/step - loss: 0.0400\n",
      "Epoch 46/50\n",
      "5/5 [==============================] - 0s 1ms/step - loss: 0.0403\n",
      "Epoch 47/50\n",
      "5/5 [==============================] - 0s 997us/step - loss: 0.0396\n",
      "Epoch 48/50\n",
      "5/5 [==============================] - 0s 997us/step - loss: 0.0392\n",
      "Epoch 49/50\n",
      "5/5 [==============================] - 0s 998us/step - loss: 0.0397\n",
      "Epoch 50/50\n",
      "5/5 [==============================] - 0s 998us/step - loss: 0.0396\n"
     ]
    }
   ],
   "source": [
    "model.compile(loss='mse', optimizer='adam') \n",
    "history = model.fit(X, y, epochs=50, batch_size=32)\n",
    "\n",
    "# epochs : 반복 회수\n",
    "# loss : 오차 혹은 에러. 예측한 값과 실제 값의 격차. 반복할수록 오차가 줄어든다.\n",
    "# mse : mean squared error, 오차를 제곱한 값들의 평균\n",
    "# loss 를 줄이는 방식중 하나의 adam.\n",
    "# 신경망의 핵심, 설계도대로 실행한 후 오차를 계산하고, 오차를 줄이는 방향으로 조정한다."
   ]
  },
  {
   "cell_type": "code",
   "execution_count": 14,
   "id": "b58630ae",
   "metadata": {},
   "outputs": [
    {
     "data": {
      "text/plain": [
       "[<matplotlib.lines.Line2D at 0x243fe89cc70>]"
      ]
     },
     "execution_count": 14,
     "metadata": {},
     "output_type": "execute_result"
    },
    {
     "data": {
      "image/png": "[encoded data removed]",
      "text/plain": [
       "<Figure size 432x288 with 1 Axes>"
      ]
     },
     "metadata": {
      "needs_background": "light"
     },
     "output_type": "display_data"
    }
   ],
   "source": [
    "plt.plot(history.history['loss'])"
   ]
  },
  {
   "cell_type": "code",
   "execution_count": 15,
   "id": "c1363a03",
   "metadata": {},
   "outputs": [
    {
     "name": "stdout",
     "output_type": "stream",
     "text": [
      "5/5 [==============================] - 0s 755us/step\n"
     ]
    },
    {
     "data": {
      "text/plain": [
       "<matplotlib.legend.Legend at 0x243ff263a90>"
      ]
     },
     "execution_count": 15,
     "metadata": {},
     "output_type": "execute_result"
    },
    {
     "data": {
      "image/png": "[encoded data removed]",
      "text/plain": [
       "<Figure size 432x288 with 1 Axes>"
      ]
     },
     "metadata": {
      "needs_background": "light"
     },
     "output_type": "display_data"
    }
   ],
   "source": [
    "y_pred = model.predict(X)\n",
    "plt.plot(y)\n",
    "plt.plot(y_pred)\n",
    "plt.legend(['y', 'y_pred'])"
   ]
  },
  {
   "cell_type": "code",
   "execution_count": 19,
   "id": "02da94ce",
   "metadata": {},
   "outputs": [
    {
     "data": {
      "text/plain": [
       "((60000, 28, 28), (60000,), (10000, 28, 28), (10000,))"
      ]
     },
     "execution_count": 19,
     "metadata": {},
     "output_type": "execute_result"
    }
   ],
   "source": [
    "(X_train, y_train), (X_test, y_test) = keras.datasets.mnist.load_data()\n",
    "X_train.shape, y_train.shape, X_test.shape, y_test.shape\n",
    "# 입력할 데이터 X_train: 28 * 28 크기의 각 도트가 최대값 255를 갖는 표형 데이터\n",
    "# 결과 데이터 y_train : 최대값 9를 갖는 한자리수 결과 데이터"
   ]
  },
  {
   "cell_type": "code",
   "execution_count": 20,
   "id": "baa0c06b",
   "metadata": {},
   "outputs": [
    {
     "data": {
      "text/plain": [
       "<matplotlib.colorbar.Colorbar at 0x243fec461c0>"
      ]
     },
     "execution_count": 20,
     "metadata": {},
     "output_type": "execute_result"
    },
    {
     "data": {
      "image/png": "[encoded data removed]",
      "text/plain": [
       "<Figure size 432x288 with 2 Axes>"
      ]
     },
     "metadata": {
      "needs_background": "light"
     },
     "output_type": "display_data"
    }
   ],
   "source": [
    "plt.imshow(X_train[0], cmap='gray')\n",
    "plt.colorbar()"
   ]
  },
  {
   "cell_type": "code",
   "execution_count": 26,
   "id": "3f73729f",
   "metadata": {},
   "outputs": [
    {
     "data": {
      "text/plain": [
       "((60000, 784), (10000, 784))"
      ]
     },
     "execution_count": 26,
     "metadata": {},
     "output_type": "execute_result"
    }
   ],
   "source": [
    "### 데이터 전처리\n",
    "\n",
    "X_train = X_train.reshape(-1, 28*28)/255\n",
    "X_test = X_test.reshape(-1, 28*28)/255\n",
    "X_train.shape, X_test.shape\n",
    "\n",
    "# X_train과 X_test의 각 도트의 값의 범위가 1~255이기 때문에 255로 나누어줌으로 1~0 사이의 값으로 제한한다."
   ]
  },
  {
   "cell_type": "code",
   "execution_count": 29,
   "id": "83a1c49f",
   "metadata": {},
   "outputs": [
    {
     "data": {
      "text/plain": [
       "((60000, 10), (10000, 10))"
      ]
     },
     "execution_count": 29,
     "metadata": {},
     "output_type": "execute_result"
    }
   ],
   "source": [
    "### 원 핫 인코딩\n",
    "y_train = np.eye(10)[y_train] # y = 1 이라면 [1, 0, 0, 0, 0,....] 으로 인코딩 해준다.\n",
    "y_test = np.eye(10)[y_test]\n",
    "\n",
    "y_train.shape, y_test.shape"
   ]
  },
  {
   "cell_type": "code",
   "execution_count": 40,
   "id": "3795a5c9",
   "metadata": {},
   "outputs": [],
   "source": [
    "model = keras.models.Sequential()\n",
    "model.add(keras.layers.Dense(1000, activation='relu', input_shape = (784, )))\n",
    "model.add(keras.layers.Dense(500, activation='relu'))\n",
    "model.add(keras.layers.Dense(100, activation='relu'))\n",
    "model.add(keras.layers.Dense(10, activation='softmax'))\n",
    "\n"
   ]
  },
  {
   "cell_type": "code",
   "execution_count": 41,
   "id": "71ae0393",
   "metadata": {},
   "outputs": [
    {
     "name": "stdout",
     "output_type": "stream",
     "text": [
      "Epoch 1/20\n",
      "1407/1407 [==============================] - 11s 7ms/step - loss: 0.2145 - acc: 0.9347 - val_loss: 0.1197 - val_acc: 0.9637\n",
      "Epoch 2/20\n",
      "1407/1407 [==============================] - 10s 7ms/step - loss: 0.0944 - acc: 0.9712 - val_loss: 0.1115 - val_acc: 0.9673\n",
      "Epoch 3/20\n",
      "1407/1407 [==============================] - 10s 7ms/step - loss: 0.0664 - acc: 0.9796 - val_loss: 0.1057 - val_acc: 0.9681\n",
      "Epoch 4/20\n",
      "1407/1407 [==============================] - 10s 7ms/step - loss: 0.0519 - acc: 0.9834 - val_loss: 0.1057 - val_acc: 0.9719\n",
      "Epoch 5/20\n",
      "1407/1407 [==============================] - 10s 7ms/step - loss: 0.0404 - acc: 0.9878 - val_loss: 0.0926 - val_acc: 0.9751\n",
      "Epoch 6/20\n",
      "1407/1407 [==============================] - 10s 7ms/step - loss: 0.0342 - acc: 0.9893 - val_loss: 0.1353 - val_acc: 0.9681\n",
      "Epoch 7/20\n",
      "1407/1407 [==============================] - 10s 7ms/step - loss: 0.0277 - acc: 0.9911 - val_loss: 0.1248 - val_acc: 0.9694\n",
      "Epoch 8/20\n",
      "1407/1407 [==============================] - 10s 7ms/step - loss: 0.0272 - acc: 0.9916 - val_loss: 0.1191 - val_acc: 0.9741\n",
      "Epoch 9/20\n",
      "1407/1407 [==============================] - 10s 7ms/step - loss: 0.0258 - acc: 0.9924 - val_loss: 0.1006 - val_acc: 0.9785\n",
      "Epoch 10/20\n",
      "1407/1407 [==============================] - 10s 7ms/step - loss: 0.0191 - acc: 0.9940 - val_loss: 0.1424 - val_acc: 0.9753\n",
      "Epoch 11/20\n",
      "1407/1407 [==============================] - 10s 7ms/step - loss: 0.0235 - acc: 0.9932 - val_loss: 0.1199 - val_acc: 0.9764\n",
      "Epoch 12/20\n",
      "1407/1407 [==============================] - 10s 7ms/step - loss: 0.0159 - acc: 0.9954 - val_loss: 0.1121 - val_acc: 0.9791\n",
      "Epoch 13/20\n",
      "1407/1407 [==============================] - 10s 7ms/step - loss: 0.0172 - acc: 0.9952 - val_loss: 0.1222 - val_acc: 0.9777\n",
      "Epoch 14/20\n",
      "1407/1407 [==============================] - 10s 7ms/step - loss: 0.0202 - acc: 0.9941 - val_loss: 0.1389 - val_acc: 0.9750\n",
      "Epoch 15/20\n",
      "1407/1407 [==============================] - 10s 7ms/step - loss: 0.0165 - acc: 0.9956 - val_loss: 0.1311 - val_acc: 0.9751\n",
      "Epoch 16/20\n",
      "1407/1407 [==============================] - 10s 7ms/step - loss: 0.0135 - acc: 0.9966 - val_loss: 0.1347 - val_acc: 0.9773\n",
      "Epoch 17/20\n",
      "1407/1407 [==============================] - 10s 7ms/step - loss: 0.0149 - acc: 0.9962 - val_loss: 0.1504 - val_acc: 0.9764\n",
      "Epoch 18/20\n",
      "1407/1407 [==============================] - 10s 7ms/step - loss: 0.0125 - acc: 0.9966 - val_loss: 0.1851 - val_acc: 0.9769\n",
      "Epoch 19/20\n",
      "1407/1407 [==============================] - 10s 7ms/step - loss: 0.0152 - acc: 0.9959 - val_loss: 0.1451 - val_acc: 0.9770\n",
      "Epoch 20/20\n",
      "1407/1407 [==============================] - 10s 7ms/step - loss: 0.0098 - acc: 0.9972 - val_loss: 0.1806 - val_acc: 0.9773\n"
     ]
    }
   ],
   "source": [
    "model.compile(loss = 'categorical_crossentropy', optimizer = 'adam', metrics=['acc']) \n",
    "\n",
    "history = model.fit(X_train, y_train, epochs=20, batch_size = 32, validation_split=0.25)\n"
   ]
  },
  {
   "cell_type": "code",
   "execution_count": 42,
   "id": "eb51fef3",
   "metadata": {},
   "outputs": [
    {
     "data": {
      "text/plain": [
       "[<matplotlib.lines.Line2D at 0x24387803d30>]"
      ]
     },
     "execution_count": 42,
     "metadata": {},
     "output_type": "execute_result"
    },
    {
     "data": {
      "image/png": "[encoded data removed]",
      "text/plain": [
       "<Figure size 432x288 with 1 Axes>"
      ]
     },
     "metadata": {
      "needs_background": "light"
     },
     "output_type": "display_data"
    }
   ],
   "source": [
    "plt.plot(history.history['loss'])\n",
    "plt.plot(history.history['acc'])\n"
   ]
  },
  {
   "cell_type": "code",
   "execution_count": 43,
   "id": "7a70b12f",
   "metadata": {},
   "outputs": [
    {
     "data": {
      "text/plain": [
       "<matplotlib.legend.Legend at 0x2438785dbb0>"
      ]
     },
     "execution_count": 43,
     "metadata": {},
     "output_type": "execute_result"
    },
    {
     "data": {
      "image/png": "[encoded data removed]",
      "text/plain": [
       "<Figure size 432x288 with 2 Axes>"
      ]
     },
     "metadata": {
      "needs_background": "light"
     },
     "output_type": "display_data"
    }
   ],
   "source": [
    "plt.subplot(1,2,1)\n",
    "plt.plot(history.history['acc'])\n",
    "plt.plot(history.history['val_acc'])\n",
    "plt.legend(['acc', 'val_acc'])\n",
    "\n",
    "plt.subplot(1,2,2)\n",
    "plt.plot(history.history['loss'])\n",
    "plt.plot(history.history['val_loss'])\n",
    "plt.legend(['loss', 'val_loss'])\n",
    "\n"
   ]
  },
  {
   "cell_type": "code",
   "execution_count": null,
   "id": "65c7d0d4",
   "metadata": {},
   "outputs": [],
   "source": []
  },
  {
   "cell_type": "code",
   "execution_count": null,
   "id": "52b56e55",
   "metadata": {},
   "outputs": [],
   "source": []
  },
  {
   "cell_type": "code",
   "execution_count": null,
   "id": "4398a069",
   "metadata": {},
   "outputs": [],
   "source": []
  },
  {
   "cell_type": "code",
   "execution_count": null,
   "id": "6cb6680f",
   "metadata": {},
   "outputs": [],
   "source": []
  },
  {
   "cell_type": "code",
   "execution_count": null,
   "id": "e81cf3aa",
   "metadata": {},
   "outputs": [],
   "source": []
  },
  {
   "cell_type": "code",
   "execution_count": null,
   "id": "2c6ff158",
   "metadata": {},
   "outputs": [],
   "source": []
  },
  {
   "cell_type": "code",
   "execution_count": null,
   "id": "622ba5f5",
   "metadata": {},
   "outputs": [],
   "source": []
  },
  {
   "cell_type": "code",
   "execution_count": null,
   "id": "36ede5ff",
   "metadata": {},
   "outputs": [],
   "source": []
  },
  {
   "cell_type": "code",
   "execution_count": null,
   "id": "6673e45b",
   "metadata": {},
   "outputs": [],
   "source": []
  }
 ],
 "metadata": {
  "kernelspec": {
   "display_name": "Python 3 (ipykernel)",
   "language": "python",
   "name": "python3"
  },
  "language_info": {
   "codemirror_mode": {
    "name": "ipython",
    "version": 3
   },
   "file_extension": ".py",
   "mimetype": "text/x-python",
   "name": "python",
   "nbconvert_exporter": "python",
   "pygments_lexer": "ipython3",
   "version": "3.9.7"
  }
 },
 "nbformat": 4,
 "nbformat_minor": 5
}
